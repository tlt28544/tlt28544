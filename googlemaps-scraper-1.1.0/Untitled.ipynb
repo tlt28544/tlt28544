{
 "cells": [
  {
   "cell_type": "code",
   "execution_count": 1,
   "id": "634654ec-63f9-4230-be4c-f641c0f2c4d0",
   "metadata": {},
   "outputs": [
    {
     "name": "stdout",
     "output_type": "stream",
     "text": [
      "Collecting beautifulsoup4==4.6.0 (from -r requirements.txt (line 1))\n",
      "  Using cached beautifulsoup4-4.6.0-py3-none-any.whl.metadata (1.1 kB)\n",
      "Collecting certifi==2022.12.7 (from -r requirements.txt (line 2))\n",
      "  Using cached certifi-2022.12.7-py3-none-any.whl.metadata (2.9 kB)\n",
      "Collecting charset-normalizer==2.0.12 (from -r requirements.txt (line 3))\n",
      "  Using cached charset_normalizer-2.0.12-py3-none-any.whl.metadata (11 kB)\n",
      "Collecting colorama==0.4.5 (from -r requirements.txt (line 4))\n",
      "  Using cached colorama-0.4.5-py2.py3-none-any.whl.metadata (15 kB)\n",
      "Collecting configparser==5.2.0 (from -r requirements.txt (line 5))\n",
      "  Using cached configparser-5.2.0-py3-none-any.whl.metadata (11 kB)\n",
      "Collecting crayons==0.4.0 (from -r requirements.txt (line 6))\n",
      "  Using cached crayons-0.4.0-py2.py3-none-any.whl.metadata (2.8 kB)\n",
      "Collecting idna==3.3 (from -r requirements.txt (line 7))\n",
      "  Using cached idna-3.3-py3-none-any.whl.metadata (9.8 kB)\n",
      "Collecting numpy==1.23.0 (from -r requirements.txt (line 8))\n",
      "  Using cached numpy-1.23.0.tar.gz (10.7 MB)\n",
      "  Installing build dependencies ... \u001b[?25ldone\n",
      "\u001b[?25h  Getting requirements to build wheel ... \u001b[?25ldone\n",
      "\u001b[?25h  Preparing metadata (pyproject.toml) ... \u001b[?25ldone\n",
      "\u001b[?25hCollecting pandas==1.4.3 (from -r requirements.txt (line 9))\n",
      "  Using cached pandas-1.4.3.tar.gz (4.9 MB)\n",
      "  Installing build dependencies ... \u001b[?25ldone\n",
      "\u001b[?25h  Getting requirements to build wheel ... \u001b[?25ldone\n",
      "\u001b[?25h  Preparing metadata (pyproject.toml) ... \u001b[?25ldone\n",
      "\u001b[?25hCollecting pymongo==3.9.0 (from -r requirements.txt (line 10))\n",
      "  Using cached pymongo-3.9.0.tar.gz (701 kB)\n",
      "  Preparing metadata (setup.py) ... \u001b[?25ldone\n",
      "\u001b[?25hRequirement already satisfied: python-dateutil==2.8.2 in /opt/anaconda3/lib/python3.11/site-packages (from -r requirements.txt (line 11)) (2.8.2)\n",
      "Collecting pytz==2022.1 (from -r requirements.txt (line 12))\n",
      "  Using cached pytz-2022.1-py2.py3-none-any.whl.metadata (21 kB)\n",
      "Collecting requests==2.28.0 (from -r requirements.txt (line 13))\n",
      "  Using cached requests-2.28.0-py3-none-any.whl.metadata (4.6 kB)\n",
      "Collecting selenium==3.14.0 (from -r requirements.txt (line 14))\n",
      "  Using cached selenium-3.14.0-py2.py3-none-any.whl.metadata (6.6 kB)\n",
      "Requirement already satisfied: six==1.16.0 in /opt/anaconda3/lib/python3.11/site-packages (from -r requirements.txt (line 15)) (1.16.0)\n",
      "Collecting termcolor==1.1.0 (from -r requirements.txt (line 16))\n",
      "  Using cached termcolor-1.1.0.tar.gz (3.9 kB)\n",
      "  Preparing metadata (setup.py) ... \u001b[?25ldone\n",
      "\u001b[?25hCollecting webdriver-manager==3.5.2 (from -r requirements.txt (line 17))\n",
      "  Using cached webdriver_manager-3.5.2-py2.py3-none-any.whl.metadata (6.3 kB)\n",
      "\u001b[31mERROR: Cannot install pandas==0.25.2 and pandas==1.4.3 because these package versions have conflicting dependencies.\u001b[0m\u001b[31m\n",
      "\u001b[0m\n",
      "The conflict is caused by:\n",
      "    The user requested pandas==1.4.3\n",
      "    The user requested pandas==0.25.2\n",
      "\n",
      "To fix this you could try to:\n",
      "1. loosen the range of package versions you've specified\n",
      "2. remove package versions to allow pip attempt to solve the dependency conflict\n",
      "\n",
      "\u001b[31mERROR: ResolutionImpossible: for help visit https://pip.pypa.io/en/latest/topics/dependency-resolution/#dealing-with-dependency-conflicts\u001b[0m\u001b[31m\n",
      "\u001b[0mNote: you may need to restart the kernel to use updated packages.\n"
     ]
    }
   ],
   "source": [
    "pip install -r requirements.txt"
   ]
  },
  {
   "cell_type": "code",
   "execution_count": 1,
   "id": "bb725cac-baa4-4542-8c58-63b3c97e8c2a",
   "metadata": {},
   "outputs": [
    {
     "name": "stdout",
     "output_type": "stream",
     "text": [
      "Traceback (most recent call last):\n",
      "  File \"/Users/leslietan/Desktop/googlemaps-scraper-1.1.0/scraper.py\", line 43, in <module>\n",
      "    with GoogleMapsScraper(debug=args.debug) as scraper:\n",
      "         ^^^^^^^^^^^^^^^^^^^^^^^^^^^^^^^^^^^\n",
      "  File \"/Users/leslietan/Desktop/googlemaps-scraper-1.1.0/googlemaps.py\", line 31, in __init__\n",
      "    self.driver = self.__get_driver()\n",
      "                  ^^^^^^^^^^^^^^^^^^^\n",
      "  File \"/Users/leslietan/Desktop/googlemaps-scraper-1.1.0/googlemaps.py\", line 386, in __get_driver\n",
      "    input_driver = webdriver.Chrome(executable_path=ChromeDriverManager(log_level=0).install(), options=options)\n",
      "                                                    ^^^^^^^^^^^^^^^^^^^^^^^^^^^^^^^^\n",
      "TypeError: ChromeDriverManager.__init__() got an unexpected keyword argument 'log_level'\n"
     ]
    }
   ],
   "source": [
    "!python scraper.py --N 50"
   ]
  },
  {
   "cell_type": "code",
   "execution_count": null,
   "id": "56ed0fed-94c1-4ca5-ad18-bbb47d04780e",
   "metadata": {},
   "outputs": [],
   "source": []
  }
 ],
 "metadata": {
  "kernelspec": {
   "display_name": "Python 3 (ipykernel)",
   "language": "python",
   "name": "python3"
  },
  "language_info": {
   "codemirror_mode": {
    "name": "ipython",
    "version": 3
   },
   "file_extension": ".py",
   "mimetype": "text/x-python",
   "name": "python",
   "nbconvert_exporter": "python",
   "pygments_lexer": "ipython3",
   "version": "3.11.7"
  }
 },
 "nbformat": 4,
 "nbformat_minor": 5
}
